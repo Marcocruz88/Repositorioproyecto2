{
 "cells": [
  {
   "cell_type": "code",
   "execution_count": null,
   "metadata": {},
   "outputs": [
    {
     "data": {
      "text/plain": [
       "[]"
      ]
     },
     "execution_count": 1,
     "metadata": {},
     "output_type": "execute_result"
    }
   ],
   "source": [
    "import psycopg2\n",
    "\n",
    "engine = psycopg2.connect(\n",
    "    dbname=\"Base1\",  # Cambia \"nombre_que_definiste\" por el nombre de tu base de datos\n",
    "    user=\"postgres\",    # Usuario maestro por defecto\n",
    "    password=\"Proyecto2Intento1\",  # Coloca la contraseña que configuraste\n",
    "    host=\"proyecto2prueba.czuvlz3sgcg3.us-east-1.rds.amazonaws.com\",  # Este es el punto de enlace que aparece en la imagen\n",
    "    port=\"5432\"  # Puerto que también aparece en la imagen\n",
    ")\n",
    "\n",
    "cursor = engine.cursor()\n",
    "\n",
    "query = \"\"\"\n",
    "SELECT *\n",
    "FROM pg_catalog.pg_tables\n",
    "WHERE schemaname='public';\n",
    "\"\"\"\n",
    "\n",
    "cursor.execute(query)\n",
    "result = cursor.fetchall()\n",
    "result"
   ]
  }
 ],
 "metadata": {
  "kernelspec": {
   "display_name": "datos",
   "language": "python",
   "name": "python3"
  },
  "language_info": {
   "codemirror_mode": {
    "name": "ipython",
    "version": 3
   },
   "file_extension": ".py",
   "mimetype": "text/x-python",
   "name": "python",
   "nbconvert_exporter": "python",
   "pygments_lexer": "ipython3",
   "version": "3.11.9"
  }
 },
 "nbformat": 4,
 "nbformat_minor": 2
}
